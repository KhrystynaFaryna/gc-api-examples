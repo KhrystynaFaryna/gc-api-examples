{
 "cells": [
  {
   "cell_type": "code",
   "execution_count": null,
   "metadata": {},
   "outputs": [],
   "source": [
    "import gcapi\n",
    "from pathlib import Path\n",
    "from tqdm import tqdm\n",
    "import SimpleITK as sitk\n",
    "import numpy as np\n",
    "import os"
   ]
  },
  {
   "cell_type": "code",
   "execution_count": null,
   "metadata": {},
   "outputs": [],
   "source": [
    "!pip install prettyprint"
   ]
  },
  {
   "cell_type": "code",
   "execution_count": null,
   "metadata": {},
   "outputs": [],
   "source": [
    "from pprint import pprint as pp\n",
    "\n",
    "#pp = pprint.PrettyPrinter(indent=4)"
   ]
  },
  {
   "cell_type": "code",
   "execution_count": null,
   "metadata": {},
   "outputs": [],
   "source": [
    "# authorise with your personal token\n",
    "my_personal_GC_API_token = ''\n",
    "client = gcapi.Client(token=my_personal_GC_API_token)"
   ]
  },
  {
   "cell_type": "code",
   "execution_count": null,
   "metadata": {},
   "outputs": [],
   "source": [
    "# access jobs\n",
    "jobs = client.algorithm_jobs()#(slug=\"gleason-grading-of-prostate-biopsies\")\n",
    "image_names=[]\n",
    "# get visible jobs list\n",
    "visible_jobs_list = jobs.list()\n",
    "# pp(visible_jobs_list)\n",
    "# go to results of all jobs\n",
    "no_input = []\n",
    "# pp(job_results)\n",
    "while True:\n",
    "    print(visible_jobs_list[\"next\"])\n",
    "    job_results = visible_jobs_list['results']\n",
    "    print(len(job_results))\n",
    "    for i in range(len(job_results)):\n",
    "        # get algorithm title\n",
    "        title = job_results[i]['algorithm_title']\n",
    "        print('title',title)\n",
    "        if title ==\"Gleason Grading of Prostate Biopsies\" or title ==\"Gleason Grading of Prostate Biopsies (non-normalized)\":\n",
    "            #print(\"Found a match\")\n",
    "\n",
    "\n",
    "            ## check if inputs are not empty\n",
    "            if job_results[i][\"inputs\"]:\n",
    "                # get image url\n",
    "                img_url = job_results[i][\"inputs\"][0][\"image\"]\n",
    "                #pp(img_url)\n",
    "                # get image\n",
    "                image  = client(url=img_url)\n",
    "                image_name = image[\"name\"]\n",
    "                image_names.append(image_name)\n",
    "                print(image_name)\n",
    "                # pk\n",
    "                #detail = jobs.detail('2c721366-218a-4c65-a188-d9b525839ad5')\n",
    "                # inputs - > get image(url)\n",
    "                # name\n",
    "                #pp(detail)\n",
    "\n",
    "                #input_interfaces = {ci[\"slug\"]: ci for ci in jobs[\"inputs\"]}\n",
    "                #print(input_interfaces)\n",
    "                #ci = input_interfaces.get(\"generic-medical-image\",None)\n",
    "                #print(ci)\n",
    "            else: \n",
    "                no_input.append(job_results[i])\n",
    "    next_url = visible_jobs_list[\"next\"]\n",
    "    if next_url is not None:\n",
    "        visible_jobs_list  = client(url=next_url)\n",
    "    else:\n",
    "        break\n",
    "        \n",
    "print(image_names)\n",
    "print(len(image_names))"
   ]
  },
  {
   "cell_type": "code",
   "execution_count": null,
   "metadata": {},
   "outputs": [],
   "source": [
    "print(len(no_input))\n",
    "pp(no_input)"
   ]
  },
  {
   "cell_type": "code",
   "execution_count": null,
   "metadata": {},
   "outputs": [],
   "source": [
    "print(image_names)\n",
    "print(len(set(image_names)))"
   ]
  },
  {
   "cell_type": "code",
   "execution_count": null,
   "metadata": {},
   "outputs": [],
   "source": [
    "unique_image_names = list(set(image_names))\n",
    "print(len(unique_image_names))\n",
    "final_image_names = []\n",
    "for i in unique_image_names: \n",
    "    if i[-4:]== \"tiff\" or i[-4:]== \".tif\":\n",
    "        final_image_names.append(i)\n",
    "print(len(final_image_names))\n",
    "print(final_image_names)"
   ]
  },
  {
   "cell_type": "code",
   "execution_count": null,
   "metadata": {},
   "outputs": [],
   "source": []
  },
  {
   "cell_type": "code",
   "execution_count": null,
   "metadata": {},
   "outputs": [],
   "source": [
    "# access jobs\n",
    "jobs = client.algorithm_jobs()#(slug=\"gleason-grading-of-prostate-biopsies\")\n",
    "image_names=[]\n",
    "# get visible jobs list\n",
    "visible_jobs_list = jobs.list()\n",
    "# pp(visible_jobs_list)\n",
    "# go to results of all jobs\n",
    "no_input = []\n",
    "# pp(job_results)\n",
    "while True != None:\n",
    "    print(visible_jobs_list[\"next\"])\n",
    "    job_results = visible_jobs_list['results']\n",
    "    print(len(job_results))\n",
    "    for i in range(len(job_results)):\n",
    "        # get algorithm title\n",
    "        title = job_results[i]['algorithm_title']\n",
    "        print('title',title)\n",
    "        if title ==\"Gleason Grading of Prostate Biopsies\" or title ==\"Gleason Grading of Prostate Biopsies (non-normalized)\":\n",
    "            #print(\"Found a match\")\n",
    "\n",
    "\n",
    "            ## check if inputs are not empty\n",
    "            if job_results[i][\"inputs\"] and job_results[i][\"status\"]!=\"Failed\":\n",
    "                # get image url\n",
    "                img_url = job_results[i][\"inputs\"][0][\"image\"]\n",
    "                #pp(img_url)\n",
    "                # get image\n",
    "                image  = client(url=img_url)\n",
    "                image_name = image[\"name\"]\n",
    "                image_names.append(image_name)\n",
    "                print(image_name)\n",
    "                # pk\n",
    "                #detail = jobs.detail('2c721366-218a-4c65-a188-d9b525839ad5')\n",
    "                # inputs - > get image(url)\n",
    "                # name\n",
    "                #pp(detail)\n",
    "\n",
    "                #input_interfaces = {ci[\"slug\"]: ci for ci in jobs[\"inputs\"]}\n",
    "                #print(input_interfaces)\n",
    "                #ci = input_interfaces.get(\"generic-medical-image\",None)\n",
    "                #print(ci)\n",
    "            else: \n",
    "                no_input.append(job_results[i])\n",
    "    next_url = visible_jobs_list[\"next\"]\n",
    "    if next_url is not None:\n",
    "        visible_jobs_list  = client(url=next_url)\n",
    "    else:\n",
    "        break\n",
    "        \n",
    "print(image_names)\n",
    "print(len(image_names))"
   ]
  },
  {
   "cell_type": "code",
   "execution_count": null,
   "metadata": {},
   "outputs": [],
   "source": [
    "unique_image_names = list(set(image_names))\n",
    "print(len(unique_image_names))\n",
    "final_image_names = []\n",
    "for i in unique_image_names: \n",
    "    if (i[-4:]== \"tiff\" or i[-4:]== \".tif\"):\n",
    "        final_image_names.append(i)\n",
    "print(len(final_image_names))\n",
    "print(final_image_names)"
   ]
  },
  {
   "cell_type": "code",
   "execution_count": null,
   "metadata": {},
   "outputs": [],
   "source": [
    "import pandas as pd\n",
    "df = pd.DataFrame(final_image_names)\n",
    "df.to_csv(\"final_image_names.csv\")"
   ]
  }
 ],
 "metadata": {
  "kernelspec": {
   "display_name": "Python 3",
   "language": "python",
   "name": "python3"
  },
  "language_info": {
   "codemirror_mode": {
    "name": "ipython",
    "version": 3
   },
   "file_extension": ".py",
   "mimetype": "text/x-python",
   "name": "python",
   "nbconvert_exporter": "python",
   "pygments_lexer": "ipython3",
   "version": "3.8.5"
  }
 },
 "nbformat": 4,
 "nbformat_minor": 4
}
